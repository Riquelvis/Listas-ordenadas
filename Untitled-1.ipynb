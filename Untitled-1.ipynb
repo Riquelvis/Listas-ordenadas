{
 "cells": [
  {
   "cell_type": "code",
   "execution_count": 4,
   "metadata": {},
   "outputs": [],
   "source": [
    "class Node:\n",
    "    def __init__(self, qtd, preco, descricao):\n",
    "        self.qtd = qtd\n",
    "        self.preco = preco\n",
    "        self.descricao = descricao\n",
    "        self.next = None"
   ]
  },
  {
   "cell_type": "code",
   "execution_count": 33,
   "metadata": {},
   "outputs": [],
   "source": [
    "class OrdenedList:\n",
    "    def __init__(self):\n",
    "        self.head = None\n",
    "\n",
    "    # Consulta se a lista está fazia\n",
    "    def is_empty(self):\n",
    "        return self.head is None\n",
    "    \n",
    "    # Inserção de elementos na lista\n",
    "    def insert(self, qtd, preco, descricao):\n",
    "        new_node = Node(qtd, preco, descricao)\n",
    "\n",
    "        if self.is_empty() or descricao <= self.head.descricao:\n",
    "            new_node.next = self.head \n",
    "            self.head = new_node\n",
    "        else:\n",
    "            current = self.head\n",
    "            while current.next is not None and current.next.descricao < descricao:\n",
    "                current = current.next\n",
    "            new_node.next = current.next\n",
    "            current.next = new_node\n",
    "\n",
    "    # Busca de elemento\n",
    "    def search(self, descricao):\n",
    "        current = self.head\n",
    "        while current is not None and current.preco <= descricao:\n",
    "            if current.preco == descricao:\n",
    "                return current\n",
    "            current = current.next\n",
    "        return None\n",
    "    \n",
    "    # Remoção\n",
    "    def remove(self, preco):\n",
    "        if self.is_empty():\n",
    "            return None\n",
    "    \n",
    "        if self.head.preco == preco:\n",
    "            removed_node = self.head\n",
    "            self.head = self.head.next\n",
    "            return removed_node\n",
    "        \n",
    "        current = self.head\n",
    "        while current.next is not None and current.next.preco < preco:\n",
    "            current = current.next\n",
    "        \n",
    "        if current.next is None or current.next.preco > preco:\n",
    "            return None\n",
    "        \n",
    "        removed_node = current.next\n",
    "        current.next = current.next.next\n",
    "        return removed_node\n",
    "\n",
    "    # Exibição da lista - Display\n",
    "    def display(self):\n",
    "        if self.is_empty():\n",
    "            print(\"A lista ordenada está vazia!\")\n",
    "        else:\n",
    "            current = self.head\n",
    "            while current:\n",
    "                print(f\"Qtd: {current.qtd}, Preço: {current.preco}, Descrição: {current.descricao}\")\n",
    "                current = current.next"
   ]
  },
  {
   "cell_type": "code",
   "execution_count": 55,
   "metadata": {},
   "outputs": [
    {
     "name": "stdout",
     "output_type": "stream",
     "text": [
      "Qtd: 1, Preço: 25.0, Descrição: Arroz\n",
      "Qtd: 1, Preço: 10.0, Descrição: Bolachas\n",
      "Qtd: 1, Preço: 16.0, Descrição: Cereais\n",
      "Qtd: 1, Preço: 15.0, Descrição: Desodorante\n",
      "Qtd: 1, Preço: 13.0, Descrição: Feijão \n",
      "Qtd: 1, Preço: 12.0, Descrição: Macarrão\n",
      "\n",
      "\n",
      "Nova exibição após a remoção\n",
      "A lista ordenada está vazia!\n"
     ]
    }
   ],
   "source": [
    "ol = OrdenedList()\n",
    "\n",
    "ol.insert(1, 25.0, \"Arroz\")\n",
    "ol.insert(1, 13.0, \"Feijão \")\n",
    "ol.insert(1, 12.0, \"Macarrão\")\n",
    "ol.insert(1, 10.0, \"Bolachas\")\n",
    "ol.insert(1, 15.0, \"Desodorante\")\n",
    "ol.insert(1, 16.0, \"Cereais\")\n",
    "ol.display()\n",
    "\n",
    "# resultado = ol.search(15.0)\n",
    "# print(resultado.descricao)\n",
    "\n",
    "ol.remove(10.0)\n",
    "ol.remove(25.0)\n",
    "ol.remove(15.0)\n",
    "ol.remove(16.0)\n",
    "ol.remove(12.0)\n",
    "ol.remove(13.0)\n",
    "print(\"\\n\\nNova exibição após a remoção\")\n",
    "ol.display()\n",
    "# resultado = ol.search(15.0)\n",
    "# print(resultado)\n"
   ]
  }
 ],
 "metadata": {
  "kernelspec": {
   "display_name": "Python 3",
   "language": "python",
   "name": "python3"
  },
  "language_info": {
   "codemirror_mode": {
    "name": "ipython",
    "version": 3
   },
   "file_extension": ".py",
   "mimetype": "text/x-python",
   "name": "python",
   "nbconvert_exporter": "python",
   "pygments_lexer": "ipython3",
   "version": "3.11.8"
  }
 },
 "nbformat": 4,
 "nbformat_minor": 2
}
